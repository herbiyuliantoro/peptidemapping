{
 "cells": [
  {
   "cell_type": "code",
   "execution_count": 1,
   "id": "da4e5848-af6d-41c5-8e89-4a06fd2dc51d",
   "metadata": {},
   "outputs": [
    {
     "name": "stdout",
     "output_type": "stream",
     "text": [
      "Total sequences extracted from MS2 file: 68046\n"
     ]
    },
    {
     "name": "stderr",
     "output_type": "stream",
     "text": [
      "Processing MGF file: 100%|█████████████████████████████████████████████| 58687633/58687633 [01:27<00:00, 670889.57it/s]\n"
     ]
    },
    {
     "name": "stdout",
     "output_type": "stream",
     "text": [
      "MGF file has been fixed and saved to: F:\\Libfile\\Celegans_1_addseq\n"
     ]
    }
   ],
   "source": [
    "# Import necessary libraries\n",
    "from tqdm import tqdm  # For displaying progress bars\n",
    "\n",
    "# Define the file paths\n",
    "mgf_file_path = r\"F:\\Libfile\\Celegans_1.mgf\"\n",
    "ms2_file_path = r\"F:\\Libfile\\Celegans_1.ms2\"\n",
    "output_file_path =r\"F:\\Libfile\\Celegans_1_addseq\"\n",
    "\n",
    "# Step 1: Process the MS2 file to extract and process the 'SEQ=' lines\n",
    "seqlines = []\n",
    "with open(ms2_file_path, 'r') as ms2_file:\n",
    "    for line in ms2_file:\n",
    "        if 'D\\tmodified' in line:\n",
    "            # Replace 'D\\tmodified seq\\t' with 'SEQ=', remove brackets\n",
    "            seq_line = line.replace('D\\tmodified seq\\t', 'SEQ=').replace('[', '').replace(']', '')\n",
    "            seqlines.append(seq_line)\n",
    "\n",
    "print(f\"Total sequences extracted from MS2 file: {len(seqlines)}\")\n",
    "\n",
    "# Step 2: Process the MGF file and insert the 'SEQ=' lines\n",
    "\n",
    "seq_index = 0  # Index to track the current position in seqlines\n",
    "\n",
    "# Count the total number of lines in the MGF file for the progress bar\n",
    "with open(mgf_file_path, 'r') as mgf_file:\n",
    "    total_lines = sum(1 for line in mgf_file)\n",
    "\n",
    "# Process the MGF file with a progress bar\n",
    "with open(mgf_file_path, 'r') as mgf_file, open(output_file_path, 'w') as output_file:\n",
    "    for line in tqdm(mgf_file, total=total_lines, desc=\"Processing MGF file\"):\n",
    "        output_file.write(line)\n",
    "        if 'PEPMASS' in line:\n",
    "            if seq_index < len(seqlines):\n",
    "                output_file.write(seqlines[seq_index])\n",
    "                seq_index += 1\n",
    "            else:\n",
    "                # No more sequences to insert\n",
    "                output_file.write('\\n')  # Add a newline if no sequence is available\n",
    "                pass\n",
    "\n",
    "print(\"MGF file has been fixed and saved to:\", output_file_path)\n"
   ]
  },
  {
   "cell_type": "code",
   "execution_count": 4,
   "id": "6e0ec1f4-fb85-47a9-8641-876b3847f19c",
   "metadata": {},
   "outputs": [
    {
     "name": "stdout",
     "output_type": "stream",
     "text": [
      "Number of unique peptides/sequences: 4718\n"
     ]
    }
   ],
   "source": [
    "from pyteomics import mgf\n",
    "\n",
    "# Path to your MGF file\n",
    "mgf_file = r\"D:\\Celegansproject\\testlib\\Celegansaddedprotein15536pept.mgf\"\n",
    "\n",
    "# Read the MGF file\n",
    "spectra = mgf.read(mgf_file)\n",
    "\n",
    "# Extract unique peptide sequences\n",
    "peptide_sequences = set()\n",
    "\n",
    "for spectrum in spectra:\n",
    "    if 'seq' in spectrum['params']:  # Check if the 'seq' key exists\n",
    "        peptide_sequences.add(spectrum['params']['seq'])\n",
    "\n",
    "# Display the number of unique peptides\n",
    "print(f\"Number of unique peptides/sequences: {len(peptide_sequences)}\")\n"
   ]
  },
  {
   "cell_type": "code",
   "execution_count": 2,
   "id": "51a34e1e-b5f4-4c74-a681-bb61b38802d5",
   "metadata": {},
   "outputs": [
    {
     "name": "stdout",
     "output_type": "stream",
     "text": [
      "Number of unique peptides/sequences: 4718\n"
     ]
    }
   ],
   "source": [
    "from pyteomics import mgf\n",
    "\n",
    "# Path to your MGF file\n",
    "mgf_file = r\"D:\\Celegansproject\\Celegansaddedprotein.mgf\" # Replace with your MGF file path\n",
    "\n",
    "# Read the MGF file\n",
    "spectra = mgf.read(mgf_file)\n",
    "\n",
    "# Extract unique peptide sequences\n",
    "peptide_sequences = set()\n",
    "\n",
    "for spectrum in spectra:\n",
    "    if 'seq' in spectrum['params']:  # Check if the 'seq' key exists\n",
    "        peptide_sequences.add(spectrum['params']['seq'])\n",
    "\n",
    "# Display the number of unique peptides\n",
    "print(f\"Number of unique peptides/sequences: {len(peptide_sequences)}\")\n"
   ]
  },
  {
   "cell_type": "code",
   "execution_count": 3,
   "id": "f69fe09b-9e39-4d4f-8844-592190139092",
   "metadata": {},
   "outputs": [
    {
     "name": "stdout",
     "output_type": "stream",
     "text": [
      "Number of unique peptides/sequences: 3657\n"
     ]
    }
   ],
   "source": [
    "from pyteomics import mgf\n",
    "\n",
    "# Path to your MGF file\n",
    "mgf_file = r\"D:\\Celegansproject\\skyline\\Celeganaddprot.mgf\" # Replace with your MGF file path\n",
    "\n",
    "# Read the MGF file\n",
    "spectra = mgf.read(mgf_file)\n",
    "\n",
    "# Extract unique peptide sequences\n",
    "peptide_sequences = set()\n",
    "\n",
    "for spectrum in spectra:\n",
    "    if 'seq' in spectrum['params']:  # Check if the 'seq' key exists\n",
    "        peptide_sequences.add(spectrum['params']['seq'])\n",
    "\n",
    "# Display the number of unique peptides\n",
    "print(f\"Number of unique peptides/sequences: {len(peptide_sequences)}\")\n"
   ]
  },
  {
   "cell_type": "code",
   "execution_count": null,
   "id": "89361386-d380-41c1-b1b6-e157d7ff4aa6",
   "metadata": {},
   "outputs": [],
   "source": []
  }
 ],
 "metadata": {
  "kernelspec": {
   "display_name": "Python 3 (ipykernel)",
   "language": "python",
   "name": "python3"
  },
  "language_info": {
   "codemirror_mode": {
    "name": "ipython",
    "version": 3
   },
   "file_extension": ".py",
   "mimetype": "text/x-python",
   "name": "python",
   "nbconvert_exporter": "python",
   "pygments_lexer": "ipython3",
   "version": "3.11.7"
  }
 },
 "nbformat": 4,
 "nbformat_minor": 5
}
